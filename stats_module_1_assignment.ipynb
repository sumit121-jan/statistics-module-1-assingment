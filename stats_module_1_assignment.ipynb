{
  "nbformat": 4,
  "nbformat_minor": 0,
  "metadata": {
    "colab": {
      "provenance": []
    },
    "kernelspec": {
      "name": "python3",
      "display_name": "Python 3"
    },
    "language_info": {
      "name": "python"
    }
  },
  "cells": [
    {
      "cell_type": "markdown",
      "source": [
        "1. Explain the different types of data (qualitative and quantitative) and provide examples of each. Discuss\n",
        "nominal, ordinal, interval, and ratio scales."
      ],
      "metadata": {
        "id": "vCFTyouPiJ8B"
      }
    },
    {
      "cell_type": "markdown",
      "source": [
        "Qualitative Data (Categorical):\n",
        "Describes qualities or characteristics; non-numeric.\n",
        "\n",
        "Used for classification or labels.\n",
        "\n",
        "Example: Gender, city names, blood type, feedback (\"Good\", \"Average\", \"Poor\")\n",
        "\n",
        "Quantitative Data (Numerical):\n",
        "Data that can be measured numerically.\n",
        "\n",
        "Example: Age, salary, temperature, exam scores\n",
        "\n",
        "\n",
        "\n",
        "\n",
        "NOMINAL\n",
        "\n",
        "its come under categorical data used for names which dont follow any certain orders or ranking. ex: city, name,etc\n",
        "\n",
        "ORDINAL\n",
        "\n",
        "it is also a categorical data refers to  which follow logical order or ranking\n",
        "where different order is logically understandable and order matters. ex: big ,small , poor, very poor , bachelors , masters ,etc\n",
        "\n",
        "INTERVAL\n",
        "\n",
        "it is numerical type of data , where arthmetic operations are apllicable but divison and multiplication doesnot hold any meaning, difference holds true meaning and most importantly there is no existence of true zero example : 0`Celcius but there is no existence of true zero its just scale measurement as 0degree in celcius doesnot mean temperature doesnot exist. ex: temperature(if not measured in kelvin), ex: ph-scale , time of day(24hr format)\n",
        "\n",
        "\n",
        "RATIO\n",
        "\n",
        "it is numerical type of data , where arthmetic operations are apllicable but divison and multiplication  hold true meaning, difference holds true meaning and theres existence of true zero , ex:"
      ],
      "metadata": {
        "id": "sd0w-QkXjZna"
      }
    },
    {
      "cell_type": "markdown",
      "source": [
        " 2. What are the measures of central tendency, and when should you use each? Discuss the mean, median,\n",
        "and mode with examples and situations where each is appropriate"
      ],
      "metadata": {
        "id": "ALPUrvOHucva"
      }
    },
    {
      "cell_type": "markdown",
      "source": [
        "The measures of central tendency—mean, median, and mode—are used to determine the center point or typical value in a dataset. Each measure gives a different perspective, and their usefulness depends on the nature of the data.\n",
        "\n",
        "The mean is the most commonly used measure and is calculated by adding all the values and dividing by the number of values. It works best when the data is evenly distributed without extreme values (outliers). For example, suppose five students scored 70, 75, 80, 85, and 90 in a test. The mean score would be (70 + 75 + 80 + 85 + 90) ÷ 5 = 80. This gives a good idea of the overall performance of the class. However, if one student scored 10 instead of 70, the mean would drop to 68, which may not accurately reflect the performance of the rest of the class. In such cases, the mean is not the best measure.\n",
        "\n",
        "The median is the middle value when all the data points are arranged in order. It is especially useful when the data has outliers or is skewed. For example, consider the annual incomes (in thousands) of five people: 30, 35, 40, 45, and 500. The mean would be misleading because the 500 skews the average. Instead, the median is 40, which gives a better idea of the typical income in this group. This is why median is often used in reporting incomes or house prices, where some extreme values can distort the overall picture.\n",
        "\n",
        "The mode refers to the value that appears most frequently in a dataset. It is useful when you want to identify the most common or popular item, especially in categorical or discrete data. For instance, in a class of students, if the most frequently occurring shoe size is 8, then the mode is 8. Similarly, if a survey shows that chocolate is the most preferred ice cream flavor among 100 people, then chocolate is the mode. Mode can also be useful when data has multiple peaks—there may be more than one mode in a dataset (bimodal or multimodal data).\n",
        "\n",
        "In conclusion, use the mean when the data is balanced and there are no major outliers, the median when dealing with skewed data or outliers, and the mode when identifying the most frequent or common value in a dataset. Each measure provides a unique insight and helps describe data more accurately depending on the situation."
      ],
      "metadata": {
        "id": "GJaeyw4Bud8S"
      }
    },
    {
      "cell_type": "markdown",
      "source": [
        " 3. Explain the concept of dispersion. How do variance and standard deviation measure the spread of data?"
      ],
      "metadata": {
        "id": "AIptf2LABClE"
      }
    },
    {
      "cell_type": "markdown",
      "source": [
        "The concept of **dispersion** in statistics refers to the extent to which data values are spread out or scattered from the central value (like the mean). While measures of central tendency (mean, median, mode) help us find the center of the data, **dispersion tells us how much the data varies** around that center. A dataset where all the values are close to the mean has low dispersion, whereas one with values spread out widely has high dispersion.\n",
        "\n",
        "Two of the most commonly used measures of dispersion are **variance** and **standard deviation**. Both help us understand how much individual data points differ from the average value.\n",
        "\n",
        "**Variance** is the average of the squared differences from the mean. To calculate it, first find the mean of the dataset, then subtract the mean from each data point to find the deviation, square each deviation to eliminate negatives, and finally take the average of those squared values. For example, in the dataset [2, 4, 6, 8, 10], the mean is 6. The squared deviations are (2–6)² = 16, (4–6)² = 4, (6–6)² = 0, (8–6)² = 4, (10–6)² = 16. The variance is the average of these: (16 + 4 + 0 + 4 + 16)/5 = **8**.\n",
        "\n",
        "**Standard deviation** is simply the square root of the variance. It brings the unit of measurement back to the original unit of the data, making it more interpretable. In the example above, the standard deviation would be √8 ≈ **2.83**. A small standard deviation indicates that the data points are close to the mean, while a larger one means the data is more spread out.\n",
        "\n",
        "In summary, **variance** and **standard deviation** both measure how much the data varies from the mean. Variance shows this spread in squared units, while standard deviation gives a more intuitive, real-world sense of spread in the same units as the original data. Both are essential in understanding data variability, identifying consistency, and comparing the distribution of different datasets."
      ],
      "metadata": {
        "id": "CU8YONN2BfIw"
      }
    },
    {
      "cell_type": "markdown",
      "source": [
        " 4. What is a box plot, and what can it tell you about the distribution of data"
      ],
      "metadata": {
        "id": "Qdl9anDbBmKx"
      }
    },
    {
      "cell_type": "markdown",
      "source": [
        "A **box plot** (also known as a **box-and-whisker plot**) is a graphical representation used in statistics to display the distribution, spread, and skewness of a dataset. It visually summarizes the **five-number summary** of a dataset: **minimum, first quartile (Q1), median (Q2), third quartile (Q3), and maximum**.\n",
        "\n",
        "In a box plot, the **\"box\"** represents the interquartile range (IQR), which is the distance between Q1 and Q3—this covers the middle 50% of the data. A line inside the box marks the **median** of the dataset. The **\"whiskers\"** extend from the box to the **minimum and maximum** values within a specified range (usually 1.5 × IQR). Any values beyond this range are considered **outliers** and are often shown as individual dots or asterisks.\n",
        "\n",
        "A box plot gives you several important insights:\n",
        "\n",
        "1. **Center**: The line inside the box shows the **median**, indicating the central value of the dataset.\n",
        "2. **Spread**: The width of the box and length of the whiskers show how **spread out** the data is.\n",
        "3. **Skewness**: If the median is closer to the bottom or top of the box, or if one whisker is much longer than the other, the data may be **skewed**.\n",
        "4. **Outliers**: Any data points plotted outside the whiskers are **potential outliers**, indicating values that are much higher or lower than the rest.\n",
        "\n",
        "For example, a box plot of students' test scores might show that most scores fall within a certain range, with a few very low scores flagged as outliers. This helps teachers quickly assess not just the average performance, but also variability and any unusual patterns.\n",
        "\n",
        "In summary, a box plot is a powerful visual tool to quickly understand the **distribution, central tendency, variability**, and **potential outliers** in a dataset—all at once."
      ],
      "metadata": {
        "id": "6gLLMX33Bo9Y"
      }
    },
    {
      "cell_type": "markdown",
      "source": [
        "5. Discuss the role of random sampling in making inferences about populations"
      ],
      "metadata": {
        "id": "VTIyBirTByLF"
      }
    },
    {
      "cell_type": "markdown",
      "source": [
        "Random sampling plays a crucial role in statistical inference by enabling researchers to draw valid conclusions about entire populations based on data collected from a subset. This fundamental technique forms the backbone of scientific research, business decision-making, and policy formulation across diverse fields.\n",
        "\n",
        "The Foundation of Statistical Inference\n",
        "Random sampling is the cornerstone of inferential statistics—the process of making predictions or decisions about a population based on sample data. In simple random sampling, each member of the population has an exactly equal chance of being selected, making it the most straightforward of all probability sampling methods. This approach requires minimal advance knowledge about the population while providing a powerful basis for statistical analysis.\n",
        "\n",
        "The primary purpose of random sampling is to ensure that the selected sample accurately represents the population of interest. When implemented correctly, random sampling helps researchers achieve:\n",
        "\n",
        "Unbiased representation: By giving every population member an equal chance of selection, random sampling eliminates systematic bias in the sample selection process.\n",
        "\n",
        "Valid statistical inferences: Randomization allows researchers to apply probability theory to make trustworthy inferences about population parameters"
      ],
      "metadata": {
        "id": "EDpheMO9E1Ns"
      }
    },
    {
      "cell_type": "markdown",
      "source": [
        " 6. Explain the concept of skewness and its types. How does skewness affect the interpretation of data?\n"
      ],
      "metadata": {
        "id": "O0nAzMX8E8lB"
      }
    },
    {
      "cell_type": "markdown",
      "source": [
        "Skewness is a statistical measure that describes the asymmetry or lack of symmetry in the distribution of data around its mean. It tells us whether the data are skewed or tilted more towards one side, and how the tails of the distribution behave.\n",
        "\n",
        "\n",
        "\n",
        "Types of Skewness\n",
        "Positive Skewness (Right Skew)\n",
        "\n",
        "The right tail (larger values) is longer or fatter than the left tail.\n",
        "\n",
        "Most data points cluster on the left side.\n",
        "\n",
        "Mean > Median > Mode.\n",
        "\n",
        "Example: Income distribution where a few individuals earn exceptionally high incomes.\n",
        "\n",
        "The distribution’s tail stretches to the right.\n",
        "\n",
        "Negative Skewness (Left Skew)\n",
        "\n",
        "The left tail (smaller values) is longer or fatter than the right tail.\n",
        "\n",
        "Most data points cluster on the right side.\n",
        "\n",
        "Mean < Median < Mode.\n",
        "\n",
        "Example: Age at retirement where most retire around a certain age but some retire very early.\n",
        "\n",
        "The distribution’s tail stretches to the left.\n",
        "\n",
        "Zero Skewness (Symmetrical Distribution)\n",
        "\n",
        "The distribution is symmetric around the mean.\n",
        "\n",
        "Left and right sides are mirror images.\n",
        "\n",
        "Mean = Median = Mode.\n",
        "\n",
        "Example: Normal distribution.\n",
        "\n",
        "No skew; data evenly spread on both sides.\n",
        "\n",
        "\n",
        "\n",
        "How Skewness Affects Interpretation of Data\n",
        "\n",
        "\n",
        "\n",
        "Location of Central Tendency Measures: In skewed data, mean, median, and mode do not coincide. For example, in positive skew, the mean is pulled towards the longer tail, making it higher than the median.\n",
        "\n",
        "Understanding Data Shape: Skewness reveals if data are concentrated more on one side, which affects decisions based on averages.\n",
        "\n",
        "Impact on Statistical Methods: Many statistical tests assume normality (zero skew). Skewed data can violate these assumptions, leading to biased or inaccurate results.\n",
        "\n",
        "Influence on Variability Measures: Skewness can inflate variance and distort measures of spread, making some statistics less reliable.\n",
        "\n",
        "Outlier Detection: Skewness often indicates the presence of outliers or extreme values on one side of the distribution."
      ],
      "metadata": {
        "id": "gG_AbbvyHo-N"
      }
    },
    {
      "cell_type": "markdown",
      "source": [
        " 7. What is the interquartile range (IQR), and how is it used to detect outliers?\n"
      ],
      "metadata": {
        "id": "zfvCHt3cIMNW"
      }
    },
    {
      "cell_type": "markdown",
      "source": [
        "The interquartile range (IQR) is a measure of statistical dispersion that describes the spread of the middle 50% of a dataset. It is calculated as the difference between the third quartile (Q3, the 75th percentile) and the first quartile (Q1, the 25th percentile):\n",
        "\n",
        "IQR\n",
        "=\n",
        "Q\n",
        "3\n",
        "−\n",
        "Q\n",
        "1\n",
        "IQR=Q3−Q1\n",
        "Q1 is the value below which 25% of the data fall.\n",
        "\n",
        "Q3 is the value below which 75% of the data fall.\n",
        "\n",
        "How IQR Is Used to Detect Outliers\n",
        "The IQR is a robust tool for identifying outliers because it focuses on the central portion of the data and is not influenced by extreme values. The standard method for outlier detection using IQR is as follows:\n",
        "\n",
        "Calculate Q1 and Q3 for the dataset.\n",
        "\n",
        "Compute the IQR:\n",
        "IQR\n",
        "=\n",
        "Q\n",
        "3\n",
        "−\n",
        "Q\n",
        "1\n",
        "IQR=Q3−Q1\n",
        "\n",
        "Determine the outlier thresholds:\n",
        "\n",
        "Lower bound:\n",
        "Q\n",
        "1\n",
        "−\n",
        "1.5\n",
        "×\n",
        "IQR\n",
        "Q1−1.5×IQR\n",
        "\n",
        "Upper bound:\n",
        "Q\n",
        "3\n",
        "+\n",
        "1.5\n",
        "×\n",
        "IQR\n",
        "Q3+1.5×IQR\n",
        "\n",
        "Identify outliers: Any data point below the lower bound or above the upper bound is considered an outlie"
      ],
      "metadata": {
        "id": "O-Iyx-dSIeq1"
      }
    },
    {
      "cell_type": "markdown",
      "source": [
        " 8. Discuss the conditions under which the binomial distribution is used.\n"
      ],
      "metadata": {
        "id": "edZq9q9lMlwz"
      }
    },
    {
      "cell_type": "markdown",
      "source": [
        "The **binomial distribution** is used when an experiment or process meets four specific conditions. First, there must be a **fixed number of trials**; that is, the process is repeated a set number of times, such as flipping a coin 10 times or testing 20 products. Second, **each trial must have only two possible outcomes**, commonly referred to as \"success\" and \"failure\" (for example, heads or tails, defective or non-defective). Third, the **probability of success must remain constant** for each trial; this means that the chance of getting a head in a coin toss or finding a defective product does not change from one trial to the next. Finally, the **trials must be independent**, so the outcome of one trial does not influence the outcome of any other trial. When all these conditions are met, the binomial distribution provides a reliable way to calculate the probability of observing a specific number of successes in the given number of trials. If any of these conditions are not satisfied—such as if the probability of success changes, the trials are not independent, or there are more than two outcomes per trial—the binomial distribution is not appropriate, and a different statistical model should be considered.\n"
      ],
      "metadata": {
        "id": "E93PQxDjMyQQ"
      }
    },
    {
      "cell_type": "markdown",
      "source": [
        "9. Explain the properties of the normal distribution and the empirical rule (68-95-99.7 rule).\n"
      ],
      "metadata": {
        "id": "segNHTRvNYZc"
      }
    },
    {
      "cell_type": "markdown",
      "source": [
        "The normal distribution is a continuous, symmetric, bell-shaped probability distribution that is defined by its mean and standard deviation. It is characterized by the fact that the mean, median, and mode are all equal and located at the center of the distribution, and the curve is perfectly symmetrical around this central point. The spread of the data is determined by the standard deviation, and the total area under the curve equals one, representing the entire probability space. One of the most important features of the normal distribution is the empirical rule (or 68-95-99.7 rule), which states that approximately 68% of the data falls within one standard deviation of the mean, about 95% falls within two standard deviations, and about 99.7% falls within three standard deviations. This rule allows statisticians and analysts to quickly assess the spread and likelihood of data points in a normally distributed dataset, identify outliers, and make informed decisions based on probability."
      ],
      "metadata": {
        "id": "dsOVbLhQNuVD"
      }
    },
    {
      "cell_type": "markdown",
      "source": [
        " 10. Provide a real-life example of a Poisson process and calculate the probability for a specific event.\n"
      ],
      "metadata": {
        "id": "6mu3A283ODx0"
      }
    },
    {
      "cell_type": "markdown",
      "source": [
        "A classic real-life example of a Poisson process is the **number of calls received by a call center per hour**. Suppose a call center receives an average of 10 calls per hour (so the rate parameter, λ, is 10). We can use the Poisson distribution to calculate the probability of receiving exactly 12 calls in a given hour.\n",
        "\n",
        "The Poisson probability formula is:\n",
        "\n",
        "$$\n",
        "P(X = k) = \\frac{e^{-\\lambda} \\cdot \\lambda^k}{k!}\n",
        "$$\n",
        "\n",
        "where  \n",
        "- $$ \\lambda $$ is the average rate (here, 10 calls/hour),  \n",
        "- $$ k $$ is the number of events (here, 12 calls),  \n",
        "- $$ e $$ is the mathematical constant approximately equal to 2.71828.\n",
        "\n",
        "Plugging in the values:\n",
        "\n",
        "$$\n",
        "P(X = 12) = \\frac{e^{-10} \\cdot 10^{12}}{12!}\n",
        "$$\n",
        "\n",
        "Calculating step by step:\n",
        "- $$ e^{-10} \\approx 4.54 \\times 10^{-5} $$\n",
        "- $$ 10^{12} = 1,000,000,000,000 $$\n",
        "- $$ 12! = 479,001,600 $$\n",
        "\n",
        "So,\n",
        "\n",
        "$$\n",
        "P(X = 12) = \\frac{4.54 \\times 10^{-5} \\times 1,000,000,000,000}{479,001,600} \\approx \\frac{45,400}{479,001,600} \\approx 0.0948\n",
        "$$\n",
        "\n",
        "**Therefore, the probability that the call center receives exactly 12 calls in one hour is about 9.5%.** This type of calculation helps managers anticipate staffing needs and prepare for peak times.\n"
      ],
      "metadata": {
        "id": "IUQVQNyPOjJ9"
      }
    },
    {
      "cell_type": "markdown",
      "source": [
        " 11. Explain what a random variable is and differentiate between discrete and continuous random variables.\n"
      ],
      "metadata": {
        "id": "lDDdQQn7PzNl"
      }
    },
    {
      "cell_type": "markdown",
      "source": [
        "A **random variable** is a variable that represents the outcomes of a random experiment in numerical terms. It assigns a real number to each possible outcome in the sample space of a random process. For example, when you toss a coin, the outcome can be \"heads\" or \"tails,\" but a random variable could represent this outcome numerically, such as assigning 1 to \"heads\" and 0 to \"tails.\" This helps in applying mathematical tools to analyze probability and statistics.\n",
        "\n",
        "Random variables are generally classified into two types: **discrete** and **continuous**. A **discrete random variable** takes on a countable number of specific values. These values are distinct and often finite, though they can also be countably infinite. Common examples include the number of students in a class, the number of times a die shows a six in ten rolls, or the number of phone calls received in an hour. Discrete random variables are typically associated with a probability mass function (PMF), which gives the probability of each possible value.\n",
        "\n",
        "On the other hand, a **continuous random variable** can take on an infinite number of possible values within a certain range. These values are not countable, as they can include every real number within an interval. Examples include measurements like weight, height, time, or temperature. Since the probability of any exact value is essentially zero for continuous variables, we use a probability density function (PDF) to describe the likelihood of values falling within a particular range.\n",
        "\n",
        "In essence, the main difference lies in the type of values they can take: **discrete random variables take countable values**, while **continuous random variables take uncountably infinite values** over a range."
      ],
      "metadata": {
        "id": "NpGquhieP1y1"
      }
    },
    {
      "cell_type": "markdown",
      "source": [
        " 12. Provide an example dataset, calculate both covariance and correlation, and interpret the results."
      ],
      "metadata": {
        "id": "BuBje-FpQ8cW"
      }
    },
    {
      "cell_type": "code",
      "source": [
        "import seaborn as sns\n",
        "import matplotlib.pyplot as plt\n",
        "\n",
        "sns.get_dataset_names()\n",
        "df =sns.load_dataset(\"tips\")\n",
        "print(\" covariance:\")\n",
        "df1 = df[[\"tip\" , \"total_bill\"]]\n",
        "df1#example dataset\n",
        "\n",
        "df2 =df1.cov()\n",
        "print(df2) #covariance\n",
        "print(\"\\nTip with total bill shows postive relation that mean \\n if one increases other increases too this \\n represent postive relationship between them\\n\")\n",
        "\n",
        "sns.pairplot(df1)\n",
        "\n",
        "plt.show()\n",
        "print(\" \\ncorrelation :\")\n",
        "df3 = df1.corr()\n",
        "print(df3)#correlation coefficient\n",
        "print(\"\\n \\n  There is a positive correlation of 0.68 between tip and total bill, \\nwhich means that as the total bill increases,\\n the tip tends to increase as well.\\n\")\n",
        "sns.heatmap(df3 , annot =True)\n",
        "plt.show()"
      ],
      "metadata": {
        "colab": {
          "base_uri": "https://localhost:8080/",
          "height": 1000
        },
        "id": "LIQpymvYRHFV",
        "outputId": "ef438bfe-f08d-4550-9a79-60c87009efe8"
      },
      "execution_count": 51,
      "outputs": [
        {
          "output_type": "stream",
          "name": "stdout",
          "text": [
            " covariance:\n",
            "                 tip  total_bill\n",
            "tip         1.914455    8.323502\n",
            "total_bill  8.323502   79.252939\n",
            "\n",
            "Tip with total bill shows postive relation that mean \n",
            " if one increases other increases too this \n",
            " represent postive relationship between them\n",
            "\n"
          ]
        },
        {
          "output_type": "display_data",
          "data": {
            "text/plain": [
              "<Figure size 500x500 with 6 Axes>"
            ],
            "image/png": "[encoded data removed]"
          },
          "metadata": {}
        },
        {
          "output_type": "stream",
          "name": "stdout",
          "text": [
            " \n",
            "correlation :\n",
            "                 tip  total_bill\n",
            "tip         1.000000    0.675734\n",
            "total_bill  0.675734    1.000000\n",
            "\n",
            " \n",
            "  There is a positive correlation of 0.68 between tip and total bill, \n",
            "which means that as the total bill increases,\n",
            " the tip tends to increase as well.\n",
            "\n"
          ]
        },
        {
          "output_type": "display_data",
          "data": {
            "text/plain": [
              "<Figure size 640x480 with 2 Axes>"
            ],
            "image/png": "[encoded data removed]"
          },
          "metadata": {}
        }
      ]
    },
    {
      "cell_type": "code",
      "source": [],
      "metadata": {
        "id": "xHqd7UZDevB1"
      },
      "execution_count": null,
      "outputs": []
    }
  ]
}